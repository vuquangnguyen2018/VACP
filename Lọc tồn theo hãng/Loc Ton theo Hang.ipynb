{
 "cells": [
  {
   "cell_type": "code",
   "execution_count": 1,
   "metadata": {},
   "outputs": [
    {
     "name": "stderr",
     "output_type": "stream",
     "text": [
      "C:\\Users\\TAM\\AppData\\Local\\Temp\\ipykernel_13100\\2202898749.py:1: DeprecationWarning: the imp module is deprecated in favour of importlib and slated for removal in Python 3.12; see the module's documentation for alternative uses\n",
      "  import imp\n"
     ]
    }
   ],
   "source": [
    "import imp\n",
    "import numpy as np\n",
    "import pandas as pd\n",
    "import openpyxl\n",
    "import os \n",
    "import xlrd\n",
    "# Setting Directory\n",
    "os.chdir('C:/Users/TAM/Documents/Vu Quang Nguyen/VACP/')"
   ]
  },
  {
   "cell_type": "code",
   "execution_count": 2,
   "metadata": {},
   "outputs": [],
   "source": [
    "data_input=pd.read_excel(\"../VACP/Python NCC Min/Analysing Qty 4 Months/02 - Back Order 2022 VAPC - 2022 24 08 - CHECKED.xlsx\")"
   ]
  },
  {
   "cell_type": "code",
   "execution_count": 3,
   "metadata": {},
   "outputs": [
    {
     "name": "stderr",
     "output_type": "stream",
     "text": [
      "C:\\Users\\TAM\\AppData\\Local\\Temp\\ipykernel_13100\\2138151211.py:1: FutureWarning: Defining usecols with out of bounds indices is deprecated and will raise a ParserError in a future version.\n",
      "  data_nhapxuatton=pd.read_excel(\"../VACP/Python NCC Min/Tổng hợp Nhập - Xuất - Tồn YTD.xls\",usecols=\"A:B,G:O\",skipfooter=1,header=5)\n"
     ]
    }
   ],
   "source": [
    "data_nhapxuatton=pd.read_excel(\"../VACP/Python NCC Min/Tổng hợp Nhập - Xuất - Tồn YTD.xls\",usecols=\"A:B,G:O\",skipfooter=1,header=5)\n",
    "data_nhapxuatton=data_nhapxuatton.rename(columns={\n",
    "                                \"Unnamed: 0\":\"ID\",\n",
    "                                \"Unnamed: 1\":\"Tên vật tư\",\n",
    "                                \"Số lượng\":\"Tổng đầu kỳ\", \n",
    "                                \"Giá trị\":\"Giá trị đầu kỳ\",\n",
    "                                \"Số lượng.1\":\"Tổng nhập\", \n",
    "                                \"Giá trị.1\":\"Giá trị nhập\",\n",
    "                                \"Số lượng.2\":\"Tổng xuất\", \n",
    "                                \"Giá trị.2\":\"Giá trị xuất\",\n",
    "                                \"Số lượng.3\":\"Tổng tồn\", \n",
    "                                \"Giá trị.3\":\"Giá trị tồn\" }).dropna(subset=['ID']).reset_index(drop=True)\n",
    "\n",
    "\n",
    "data_banhang=pd.read_excel(\"../VACP/Bao cao Ban hang Power BI/Sổ chi tiết bán hàng.xls\",usecols=\"A,C:D,F,H,K:M\",skipfooter=1,header=6)\n",
    "data_banhang=data_banhang.rename(columns={\n",
    "                                \"Unnamed: 0\":\"Ngày bán\",\n",
    "                                \"Unnamed: 2\":\"ID Khách hàng\",\n",
    "                                \"Unnamed: 3\":\"Hãng\",\n",
    "                                \"Unnamed: 5\":\"ID\",\n",
    "                                \"Unnamed: 7\":\"Tên hàng\",\n",
    "                                \"Số lượng\":\"Tổng bán\", \n",
    "                                \"Đơn giá gốc\":\"Giá bán\",\n",
    "                                \"Giá bán\":\"Giá bán giảm\"\n",
    "                                }).dropna(subset=['ID']).reset_index(drop=True)\n",
    "                                \n",
    "data_giaban=pd.read_excel(\"../VACP/Python NCC Min\\Báo cáo giá bán, tồn kho.xls\",usecols=\"C,F\",skipfooter=1,header=4)\n",
    "data_giaban=data_giaban.rename(columns={\"Mã số\":\"ID\"}).dropna(subset=['ID']).reset_index(drop=True)\n",
    "\n",
    "data_danhmuchanghoa=pd.read_excel(\"../VACP/Python NCC Min/Danh mục vật tư hàng hóa .xls\",usecols=\"A,C:D,M\")\n",
    "data_danhmuchanghoa=data_danhmuchanghoa.rename(columns={\n",
    "                                \"Unnamed: 0\":\"ID Nhóm hàng\",\n",
    "                                \"Unnamed: 2\":\"ID\",\n",
    "                                \"Unnamed: 3\":\"Tên vật tư\",\n",
    "                                \"Unnamed: 12\":\"Hãng\"\n",
    "                                }).dropna(subset=['ID','ID Nhóm hàng']).reset_index(drop=True)\n",
    "\n"
   ]
  },
  {
   "cell_type": "code",
   "execution_count": null,
   "metadata": {},
   "outputs": [],
   "source": [
    "# Giá vốn\n",
    "data_nhapxuatton"
   ]
  },
  {
   "cell_type": "code",
   "execution_count": 4,
   "metadata": {},
   "outputs": [],
   "source": [
    "#Bán hàng gần đây\n",
    "max_date_banhang=data_banhang.groupby([\"ID\"])[\"Ngày bán\"].max()\n",
    "data_banhang_latest=data_banhang.merge(max_date_banhang,on=\"ID\",how=\"left\",suffixes=('', '_max'))\n",
    "data_banhang_latest=data_banhang_latest[data_banhang_latest[\"Ngày bán\"]==data_banhang_latest[\"Ngày bán_max\"]].drop('Ngày bán_max',axis=1).drop_duplicates(subset=\"ID\",keep='first').reset_index(drop=True)\n",
    " "
   ]
  },
  {
   "cell_type": "code",
   "execution_count": 6,
   "metadata": {},
   "outputs": [
    {
     "ename": "KeyError",
     "evalue": "'Giá vốn'",
     "output_type": "error",
     "traceback": [
      "\u001b[1;31m---------------------------------------------------------------------------\u001b[0m",
      "\u001b[1;31mKeyError\u001b[0m                                  Traceback (most recent call last)",
      "File \u001b[1;32mc:\\Users\\TAM\\AppData\\Local\\Programs\\Python\\Python310\\lib\\site-packages\\pandas\\core\\indexes\\base.py:3629\u001b[0m, in \u001b[0;36mIndex.get_loc\u001b[1;34m(self, key, method, tolerance)\u001b[0m\n\u001b[0;32m   3628\u001b[0m \u001b[39mtry\u001b[39;00m:\n\u001b[1;32m-> 3629\u001b[0m     \u001b[39mreturn\u001b[39;00m \u001b[39mself\u001b[39;49m\u001b[39m.\u001b[39;49m_engine\u001b[39m.\u001b[39;49mget_loc(casted_key)\n\u001b[0;32m   3630\u001b[0m \u001b[39mexcept\u001b[39;00m \u001b[39mKeyError\u001b[39;00m \u001b[39mas\u001b[39;00m err:\n",
      "File \u001b[1;32mc:\\Users\\TAM\\AppData\\Local\\Programs\\Python\\Python310\\lib\\site-packages\\pandas\\_libs\\index.pyx:136\u001b[0m, in \u001b[0;36mpandas._libs.index.IndexEngine.get_loc\u001b[1;34m()\u001b[0m\n",
      "File \u001b[1;32mc:\\Users\\TAM\\AppData\\Local\\Programs\\Python\\Python310\\lib\\site-packages\\pandas\\_libs\\index.pyx:163\u001b[0m, in \u001b[0;36mpandas._libs.index.IndexEngine.get_loc\u001b[1;34m()\u001b[0m\n",
      "File \u001b[1;32mpandas\\_libs\\hashtable_class_helper.pxi:5198\u001b[0m, in \u001b[0;36mpandas._libs.hashtable.PyObjectHashTable.get_item\u001b[1;34m()\u001b[0m\n",
      "File \u001b[1;32mpandas\\_libs\\hashtable_class_helper.pxi:5206\u001b[0m, in \u001b[0;36mpandas._libs.hashtable.PyObjectHashTable.get_item\u001b[1;34m()\u001b[0m\n",
      "\u001b[1;31mKeyError\u001b[0m: 'Giá vốn'",
      "\nThe above exception was the direct cause of the following exception:\n",
      "\u001b[1;31mKeyError\u001b[0m                                  Traceback (most recent call last)",
      "Cell \u001b[1;32mIn [6], line 5\u001b[0m\n\u001b[0;32m      2\u001b[0m data_nhap_ban\u001b[38;5;241m=\u001b[39mdata_nhapxuatton\u001b[38;5;241m.\u001b[39mmerge(data_danhmuchanghoa[[\u001b[38;5;124m\"\u001b[39m\u001b[38;5;124mID\u001b[39m\u001b[38;5;124m\"\u001b[39m,\u001b[38;5;124m\"\u001b[39m\u001b[38;5;124mHãng\u001b[39m\u001b[38;5;124m\"\u001b[39m]],on\u001b[38;5;241m=\u001b[39m\u001b[38;5;124m\"\u001b[39m\u001b[38;5;124mID\u001b[39m\u001b[38;5;124m\"\u001b[39m)\u001b[38;5;241m.\u001b[39mmerge(data_banhang_latest[[\u001b[38;5;124m\"\u001b[39m\u001b[38;5;124mID\u001b[39m\u001b[38;5;124m\"\u001b[39m,\u001b[38;5;124m\"\u001b[39m\u001b[38;5;124mNgày bán\u001b[39m\u001b[38;5;124m\"\u001b[39m,\u001b[38;5;124m\"\u001b[39m\u001b[38;5;124mGiá bán giảm\u001b[39m\u001b[38;5;124m\"\u001b[39m]],on\u001b[38;5;241m=\u001b[39m\u001b[38;5;124m'\u001b[39m\u001b[38;5;124mID\u001b[39m\u001b[38;5;124m'\u001b[39m)\u001b[38;5;241m.\u001b[39mmerge(data_giaban,on\u001b[38;5;241m=\u001b[39m\u001b[38;5;124m\"\u001b[39m\u001b[38;5;124mID\u001b[39m\u001b[38;5;124m\"\u001b[39m)\n\u001b[0;32m      4\u001b[0m \u001b[38;5;66;03m# TÍnh số tháng tồn trong kho\u001b[39;00m\n\u001b[1;32m----> 5\u001b[0m data_nhap_ban[\u001b[38;5;124m\"\u001b[39m\u001b[38;5;124mSố tháng tồn trong kho\u001b[39m\u001b[38;5;124m\"\u001b[39m]\u001b[38;5;241m=\u001b[39m(\u001b[38;5;241m363\u001b[39m\u001b[38;5;241m/\u001b[39m\u001b[38;5;241m30\u001b[39m)\u001b[38;5;241m/\u001b[39m\u001b[43mdata_nhap_ban\u001b[49m\u001b[43m[\u001b[49m\u001b[38;5;124;43m\"\u001b[39;49m\u001b[38;5;124;43mGiá vốn\u001b[39;49m\u001b[38;5;124;43m\"\u001b[39;49m\u001b[43m]\u001b[49m\u001b[38;5;241m/\u001b[39m(np\u001b[38;5;241m.\u001b[39mwhere(\n\u001b[0;32m      6\u001b[0m     \u001b[38;5;66;03m# Nếu Tồn dương và đầu kỳ dương thì lấy Giá vốn / (TB Giá trị đầu kỳ + Cuối kỳ)\u001b[39;00m\n\u001b[0;32m      7\u001b[0m                     (data_nhap_ban[\u001b[38;5;124m\"\u001b[39m\u001b[38;5;124mGiá trị đầu kỳ\u001b[39m\u001b[38;5;124m\"\u001b[39m]\u001b[38;5;241m>\u001b[39m\u001b[38;5;241m0\u001b[39m) \u001b[38;5;241m&\u001b[39m (data_nhap_ban[\u001b[38;5;124m\"\u001b[39m\u001b[38;5;124mGiá trị tồn\u001b[39m\u001b[38;5;124m\"\u001b[39m]\u001b[38;5;241m>\u001b[39m\u001b[38;5;241m0\u001b[39m),\n\u001b[0;32m      8\u001b[0m                                np\u001b[38;5;241m.\u001b[39mmean([data_nhap_ban[\u001b[38;5;124m\"\u001b[39m\u001b[38;5;124mTổng đầu kỳ\u001b[39m\u001b[38;5;124m\"\u001b[39m],data_nhap_ban[\u001b[38;5;124m\"\u001b[39m\u001b[38;5;124mTổng tồn\u001b[39m\u001b[38;5;124m\"\u001b[39m]])\u001b[38;5;241m/\u001b[39m\n\u001b[0;32m      9\u001b[0m                                 np\u001b[38;5;241m.\u001b[39mmean([data_nhap_ban[\u001b[38;5;124m\"\u001b[39m\u001b[38;5;124mGiá trị đầu kỳ\u001b[39m\u001b[38;5;124m\"\u001b[39m],data_nhap_ban[\u001b[38;5;124m\"\u001b[39m\u001b[38;5;124mGiá trị tồn\u001b[39m\u001b[38;5;124m\"\u001b[39m]]),\u001b[38;5;241m-\u001b[39m\u001b[38;5;241m999\u001b[39m))\n\u001b[0;32m     11\u001b[0m \u001b[38;5;66;03m# Show kết quả\u001b[39;00m\n\u001b[0;32m     12\u001b[0m data_nhap_ban_filter\u001b[38;5;241m=\u001b[39mdata_nhap_ban[[\u001b[38;5;124m\"\u001b[39m\u001b[38;5;124mID\u001b[39m\u001b[38;5;124m\"\u001b[39m,\u001b[38;5;124m\"\u001b[39m\u001b[38;5;124mTên vật tư\u001b[39m\u001b[38;5;124m\"\u001b[39m,\u001b[38;5;124m\"\u001b[39m\u001b[38;5;124mHãng\u001b[39m\u001b[38;5;124m\"\u001b[39m,\u001b[38;5;124m\"\u001b[39m\u001b[38;5;124mGiá vốn\u001b[39m\u001b[38;5;124m\"\u001b[39m,\u001b[38;5;124m\"\u001b[39m\u001b[38;5;124mGiá bán\u001b[39m\u001b[38;5;124m\"\u001b[39m,\u001b[38;5;124m\"\u001b[39m\u001b[38;5;124mTổng đầu kỳ\u001b[39m\u001b[38;5;124m\"\u001b[39m,\u001b[38;5;124m\"\u001b[39m\u001b[38;5;124mTổng nhập\u001b[39m\u001b[38;5;124m\"\u001b[39m,\u001b[38;5;124m\"\u001b[39m\u001b[38;5;124mTổng xuất\u001b[39m\u001b[38;5;124m\"\u001b[39m,\u001b[38;5;124m\"\u001b[39m\u001b[38;5;124mTổng tồn\u001b[39m\u001b[38;5;124m\"\u001b[39m, \u001b[38;5;124m\"\u001b[39m\u001b[38;5;124mGiá trị đầu kỳ\u001b[39m\u001b[38;5;124m\"\u001b[39m, \u001b[38;5;124m\"\u001b[39m\u001b[38;5;124mGiá trị nhập\u001b[39m\u001b[38;5;124m\"\u001b[39m ,\u001b[38;5;124m\"\u001b[39m\u001b[38;5;124mGiá trị xuất\u001b[39m\u001b[38;5;124m\"\u001b[39m, \u001b[38;5;124m\"\u001b[39m\u001b[38;5;124mGiá trị tồn\u001b[39m\u001b[38;5;124m\"\u001b[39m,\u001b[38;5;124m\"\u001b[39m\u001b[38;5;124mSố tháng tồn trong kho\u001b[39m\u001b[38;5;124m\"\u001b[39m]]\n",
      "File \u001b[1;32mc:\\Users\\TAM\\AppData\\Local\\Programs\\Python\\Python310\\lib\\site-packages\\pandas\\core\\frame.py:3505\u001b[0m, in \u001b[0;36mDataFrame.__getitem__\u001b[1;34m(self, key)\u001b[0m\n\u001b[0;32m   3503\u001b[0m \u001b[39mif\u001b[39;00m \u001b[39mself\u001b[39m\u001b[39m.\u001b[39mcolumns\u001b[39m.\u001b[39mnlevels \u001b[39m>\u001b[39m \u001b[39m1\u001b[39m:\n\u001b[0;32m   3504\u001b[0m     \u001b[39mreturn\u001b[39;00m \u001b[39mself\u001b[39m\u001b[39m.\u001b[39m_getitem_multilevel(key)\n\u001b[1;32m-> 3505\u001b[0m indexer \u001b[39m=\u001b[39m \u001b[39mself\u001b[39;49m\u001b[39m.\u001b[39;49mcolumns\u001b[39m.\u001b[39;49mget_loc(key)\n\u001b[0;32m   3506\u001b[0m \u001b[39mif\u001b[39;00m is_integer(indexer):\n\u001b[0;32m   3507\u001b[0m     indexer \u001b[39m=\u001b[39m [indexer]\n",
      "File \u001b[1;32mc:\\Users\\TAM\\AppData\\Local\\Programs\\Python\\Python310\\lib\\site-packages\\pandas\\core\\indexes\\base.py:3631\u001b[0m, in \u001b[0;36mIndex.get_loc\u001b[1;34m(self, key, method, tolerance)\u001b[0m\n\u001b[0;32m   3629\u001b[0m     \u001b[39mreturn\u001b[39;00m \u001b[39mself\u001b[39m\u001b[39m.\u001b[39m_engine\u001b[39m.\u001b[39mget_loc(casted_key)\n\u001b[0;32m   3630\u001b[0m \u001b[39mexcept\u001b[39;00m \u001b[39mKeyError\u001b[39;00m \u001b[39mas\u001b[39;00m err:\n\u001b[1;32m-> 3631\u001b[0m     \u001b[39mraise\u001b[39;00m \u001b[39mKeyError\u001b[39;00m(key) \u001b[39mfrom\u001b[39;00m \u001b[39merr\u001b[39;00m\n\u001b[0;32m   3632\u001b[0m \u001b[39mexcept\u001b[39;00m \u001b[39mTypeError\u001b[39;00m:\n\u001b[0;32m   3633\u001b[0m     \u001b[39m# If we have a listlike key, _check_indexing_error will raise\u001b[39;00m\n\u001b[0;32m   3634\u001b[0m     \u001b[39m#  InvalidIndexError. Otherwise we fall through and re-raise\u001b[39;00m\n\u001b[0;32m   3635\u001b[0m     \u001b[39m#  the TypeError.\u001b[39;00m\n\u001b[0;32m   3636\u001b[0m     \u001b[39mself\u001b[39m\u001b[39m.\u001b[39m_check_indexing_error(key)\n",
      "\u001b[1;31mKeyError\u001b[0m: 'Giá vốn'"
     ]
    }
   ],
   "source": [
    "# Gộp dữ liệu\n",
    "data_nhap_ban=data_nhapxuatton.merge(data_danhmuchanghoa[[\"ID\",\"Hãng\"]],on=\"ID\").merge(data_banhang_latest[[\"ID\",\"Ngày bán\",\"Giá bán giảm\"]],on='ID').merge(data_giaban,on=\"ID\")\n",
    "\n",
    "# TÍnh số tháng tồn trong kho\n",
    "data_nhap_ban[\"Số tháng tồn trong kho\"]=(363/30)/data_nhap_ban[\"Giá vốn\"]/(np.where(\n",
    "    # Nếu Tồn dương và đầu kỳ dương thì lấy Giá vốn / (TB Giá trị đầu kỳ + Cuối kỳ)\n",
    "                    (data_nhap_ban[\"Giá trị đầu kỳ\"]>0) & (data_nhap_ban[\"Giá trị tồn\"]>0),\n",
    "                               np.mean([data_nhap_ban[\"Tổng đầu kỳ\"],data_nhap_ban[\"Tổng tồn\"]])/\n",
    "                                np.mean([data_nhap_ban[\"Giá trị đầu kỳ\"],data_nhap_ban[\"Giá trị tồn\"]]),-999))\n",
    "\n",
    "# Show kết quả\n",
    "data_nhap_ban_filter=data_nhap_ban[[\"ID\",\"Tên vật tư\",\"Hãng\",\"Giá vốn\",\"Giá bán\",\"Tổng đầu kỳ\",\"Tổng nhập\",\"Tổng xuất\",\"Tổng tồn\", \"Giá trị đầu kỳ\", \"Giá trị nhập\" ,\"Giá trị xuất\", \"Giá trị tồn\",\"Số tháng tồn trong kho\"]]\n",
    "data_nhap_ban_filter=data_nhap_ban_filter.query(\"`Giá vốn`>0 & `Tổng tồn` >0 \").sort_values(by=[\"Số tháng tồn trong kho\"], ascending=False).reset_index(drop=True)"
   ]
  },
  {
   "cell_type": "code",
   "execution_count": null,
   "metadata": {},
   "outputs": [],
   "source": [
    "data_MITSUBISHI_6M=data_nhap_ban_filter.query(\"`Hãng` == 'MITSUBISHI' & `Số tháng tồn trong kho`>6\").sort_values(by=\"Số tháng tồn trong kho\",ascending=False).reset_index(drop=True)"
   ]
  },
  {
   "cell_type": "code",
   "execution_count": null,
   "metadata": {},
   "outputs": [],
   "source": [
    "data_MITSUBISHI_6M"
   ]
  },
  {
   "cell_type": "code",
   "execution_count": null,
   "metadata": {},
   "outputs": [],
   "source": [
    "# EXPORT FILE DATA\n",
    "with pd.ExcelWriter('../VACP/Lọc tồn theo hãng/Export.xlsx') as writer:\n",
    "    # data_mitsubishi.to_excel(writer, sheet_name='MITSUBISHI')\n",
    "    data_nhap_ban.to_excel(writer,sheet_name=\"Nhap Ban\")\n",
    "    data_nhap_ban_filter.to_excel(writer,sheet_name=\"Filter\")\n",
    "    data_MITSUBISHI_6M.to_excel(writer,sheet_name=\"MITSUBISHI_6Thang\")"
   ]
  }
 ],
 "metadata": {
  "kernelspec": {
   "display_name": "Python 3.10.7 64-bit",
   "language": "python",
   "name": "python3"
  },
  "language_info": {
   "codemirror_mode": {
    "name": "ipython",
    "version": 3
   },
   "file_extension": ".py",
   "mimetype": "text/x-python",
   "name": "python",
   "nbconvert_exporter": "python",
   "pygments_lexer": "ipython3",
   "version": "3.10.7"
  },
  "orig_nbformat": 4,
  "vscode": {
   "interpreter": {
    "hash": "f6cc984e88e62e349a3d36e7a57a515520ae12055cc10527abcd013d74ecd266"
   }
  }
 },
 "nbformat": 4,
 "nbformat_minor": 2
}
