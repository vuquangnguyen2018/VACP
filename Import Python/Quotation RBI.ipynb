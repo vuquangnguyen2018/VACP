{
 "cells": [
  {
   "cell_type": "code",
   "execution_count": 1,
   "metadata": {},
   "outputs": [],
   "source": [
    "# IMPORT Thư viện\n",
    "#  pip install numpy pandas jupyter notebook openpyxl xlrd\n",
    "import pandas as pd\n",
    "import os\n",
    "import openpyxl\n",
    "import xlrd\n",
    "import numpy as np"
   ]
  },
  {
   "cell_type": "code",
   "execution_count": 2,
   "metadata": {},
   "outputs": [],
   "source": [
    "# IMPORT Tổng hợp nhập xuất tồn -> RENAME \n",
    "Data_Ton = pd.read_excel(\"Tổng hợp Nhập - Xuất - Tồn YTD.xls\",usecols=\"A,F,K:L\",skipfooter=1,header=5)\n",
    "Data_Ton=Data_Ton.rename(columns={\"Unnamed: 0\":\"ID\",\"Unnamed: 5\":\"ID_Category\",\"Số lượng.2\":\"Số lượng xuất\", \"Giá trị.2\":\"Giá trị xuất\" })\n",
    "\n",
    "#Import Quotation\n",
    "Data_Request=pd.read_excel(\"Request Quotation.xlsx\",usecols=\"B:H\")\n",
    "\n",
    "#Import Báo cáo giá bán tồn kho\n",
    "Data_GiaBanTonKho=pd.read_excel(\"Báo cáo giá bán, tồn kho.xls\",usecols=\"C,F\",header=4,skipfooter=1)\n",
    "Data_GiaBanTonKho=Data_GiaBanTonKho.rename(columns={\"Mã số\":\"ID\"})\n",
    "Data_GiaBanTonKho.dropna(how='all',inplace=True)\n",
    "\n",
    "\n",
    "#Import Sổ chi tiết bán hàng\n",
    "Data_BanHang=pd.read_excel(\"Sổ chi tiết bán hàng.xls\",usecols=\"F,M\",skipfooter=1,header=6)\n",
    "Data_BanHang=Data_BanHang.rename(columns={\"Unnamed: 0\":\"Ngày bán\",\"Unnamed: 5\":\"ID\" ,\"Giá bán\":\"Giá bán giảm\"})\n",
    "\n",
    "#Import Báo cáo giá bán tồn kho\n",
    "Data_TonKho=pd.read_excel(\"Báo cáo tồn kho.xls\",usecols=\"A,D\",header=5,skipfooter=1)\n",
    "Data_TonKho=Data_TonKho.rename(columns={\"Unnamed: 0\":\"ID\",\"Số lượng\":\"Số lượng tồn\"})\n",
    "\n",
    "#Import Sổ chi tiết mua hàng\n",
    "Data_MuaHang=pd.read_excel(\"Sổ chi tiết mua hàng (2).xls\",usecols=\"A,C,E:F,I\",header=5,skipfooter=1)\n",
    "Data_MuaHang=Data_MuaHang.rename(columns={\"Unnamed: 0\":\"Ngày nhập\",\n",
    "                                        \"Unnamed: 2\":\"Nhà cung cấp\",\n",
    "                                        \"Unnamed: 4\":\"Mã nhóm hàng\",\n",
    "                                        \"Unnamed: 5\":\"ID\",\n",
    "                                        \"Số lượng\":\"Số lượng nhập\"})\n"
   ]
  },
  {
   "cell_type": "code",
   "execution_count": 3,
   "metadata": {},
   "outputs": [],
   "source": [
    "# Calcuation on Tong Hop Ton Kho -------------------------------------------\n",
    "\n",
    "# Gia Von= Gia Tri Xuat/SL Xuat * 1.05\n",
    "Data_Ton['Giá vốn']=np.around(Data_Ton['Giá trị xuất']/Data_Ton['Số lượng xuất']*1.05,0)\n"
   ]
  },
  {
   "cell_type": "code",
   "execution_count": 4,
   "metadata": {},
   "outputs": [],
   "source": [
    "# Merge Request -> Gia Von\n",
    "Data_Request= pd.merge(Data_Request,Data_Ton[['ID','Giá vốn']],on='ID', how='left')\n",
    "# Merge Giá bán (Báo cáo nhập xuất tồn)\n",
    "Data_Request=pd.merge(Data_Request,Data_GiaBanTonKho[['ID','Giá bán']],how='left',on='ID')\n",
    "# Merge Giá bán hàng\n",
    "Data_Request=pd.merge(Data_Request,Data_BanHang,how='left',on='ID')\n",
    "# Merge Số lượng tồn\n",
    "Data_Request=pd.merge(Data_Request,Data_TonKho,how='left',on='ID')\n",
    "# Merge Giá mua hàng\n",
    "Data_Request=pd.merge(Data_Request,Data_MuaHang,how='left',on='ID')"
   ]
  },
  {
   "cell_type": "code",
   "execution_count": 5,
   "metadata": {},
   "outputs": [],
   "source": [
    "# Calcuation on Request -------------------------------------------\n",
    "\n",
    "#VND/US=24,000; he so = 1.13\n",
    "Data_Request['Unit Price VND'] = np.around(Data_Request['Unit price']*24000*1.13,0)\n",
    "Data_Request['Giá vốn chênh lệch %'] = np.around((Data_Request['Unit Price VND']-Data_Request['Giá vốn'])/Data_Request['Giá vốn']*100,2)\n",
    "#SHOW KET QUA\n",
    "Data_Request=Data_Request.iloc[:,[0,1,2,3,4,5,6,15,7,16,8,9,10,11,12,13,14]]"
   ]
  },
  {
   "cell_type": "code",
   "execution_count": 6,
   "metadata": {},
   "outputs": [],
   "source": [
    "\n",
    "# EXPORT FILE DATA\n",
    "with pd.ExcelWriter('Report Quotation Request.xlsx') as writer:\n",
    "    Data_Request.to_excel(writer, sheet_name='Data')\n",
    "  \n",
    "\n"
   ]
  }
 ],
 "metadata": {
  "kernelspec": {
   "display_name": "Python 3.10.7 64-bit",
   "language": "python",
   "name": "python3"
  },
  "language_info": {
   "codemirror_mode": {
    "name": "ipython",
    "version": 3
   },
   "file_extension": ".py",
   "mimetype": "text/x-python",
   "name": "python",
   "nbconvert_exporter": "python",
   "pygments_lexer": "ipython3",
   "version": "3.10.7"
  },
  "orig_nbformat": 4,
  "vscode": {
   "interpreter": {
    "hash": "f6cc984e88e62e349a3d36e7a57a515520ae12055cc10527abcd013d74ecd266"
   }
  }
 },
 "nbformat": 4,
 "nbformat_minor": 2
}
