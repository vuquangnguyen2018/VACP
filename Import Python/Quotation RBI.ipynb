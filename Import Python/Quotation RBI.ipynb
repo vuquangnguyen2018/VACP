{
 "cells": [
  {
   "cell_type": "code",
   "execution_count": null,
   "metadata": {},
   "outputs": [],
   "source": [
    "# IMPORT Thư viện\n",
    "#  pip install numpy pandas jupyter notebook openpyxl xlrd\n",
    "import pandas as pd\n",
    "import os\n",
    "import openpyxl\n",
    "import xlrd\n",
    "import numpy as np"
   ]
  },
  {
   "cell_type": "code",
   "execution_count": null,
   "metadata": {},
   "outputs": [],
   "source": [
    "# IMPORT CÁC FILE (5 FILES): TỔNG NHẬP XUẤT TỒN ; GIÁ BÁN; MUA HÀNG ; BÁN HÀNG; INPUT\n",
    "\n",
    "# IMPORT 1 Tổng hợp nhập xuất tồn -> RENAME \n",
    "Data_Ton = pd.read_excel(\"Tổng hợp Nhập - Xuất - Tồn YTD.xls\",usecols=\"A,F,K:L\",skipfooter=1,header=5)\n",
    "Data_Ton=Data_Ton.rename(columns={\"Unnamed: 0\":\"ID\",\n",
    "                                \"Unnamed: 5\":\"ID_Category\",\n",
    "                                \"Số lượng.2\":\"Tổng xuất\", \n",
    "                                \"Giá trị.2\":\"Giá trị xuất\" })\n",
    "\n",
    "#Import INPUT Quotation\n",
    "Data_Request=pd.read_excel(\"Input.xlsx\",usecols=\"B:H\")\n",
    "\n",
    "#Import 2: Báo cáo giá bán tồn kho\n",
    "Data_GiaBanTonKho=pd.read_excel(\"Báo cáo giá bán, tồn kho.xls\",usecols=\"C,F,J\",header=4,skipfooter=1)\n",
    "Data_GiaBanTonKho=Data_GiaBanTonKho.rename(columns={\"Mã số\":\"ID\"})\n",
    "Data_GiaBanTonKho.dropna(how='all',inplace=True)\n",
    "\n",
    "\n",
    "#Import 3: Sổ chi tiết bán hàng\n",
    "Data_BanHang=pd.read_excel(\"Sổ chi tiết bán hàng.xls\",usecols=\"F,M\",skipfooter=1,header=6)\n",
    "Data_BanHang=Data_BanHang.rename(columns={\"Unnamed: 0\":\"Ngày bán\",\n",
    "                                        \"Unnamed: 5\":\"ID\" ,\n",
    "                                        \"Giá bán\":\"Giá bán giảm\"})\n",
    "\n",
    "\n",
    "#Import 4: Sổ chi tiết mua hàng\n",
    "Data_MuaHang=pd.read_excel(\"Sổ chi tiết mua hàng (2).xls\",usecols=\"A,C,F,I:J\",header=5,skipfooter=1)\n",
    "Data_MuaHang=Data_MuaHang.rename(columns={\"Unnamed: 0\":\"Ngày nhập\",\n",
    "                                        \"Unnamed: 2\":\"Nhà cung cấp\",\n",
    "                                        \"Unnamed: 5\":\"ID\",\n",
    "                                        \"Số lượng\":\"Tổng nhập\",\n",
    "                                        \"Đơn giá\":\"Đơn giá nhập\"})\n"
   ]
  },
  {
   "cell_type": "code",
   "execution_count": null,
   "metadata": {},
   "outputs": [],
   "source": [
    "# TẠO BỘ LỌC CHO SỔ MUA HÀNG: GIÁ NHẬP NHỎ NHẤT; NGÀY NHẬP GẦN NHẤT\n",
    "# FILTER: Đơn giá nhập >0; Tổng nhập > 0; \n",
    "Data_MuaHang=Data_MuaHang.loc[(Data_MuaHang['Đơn giá nhập']>0) & (Data_MuaHang['Tổng nhập']>0)].sort_values('Đơn giá nhập')\n",
    "# Tạo giá nhập nhỏ nhất\n",
    "Min_value=Data_MuaHang.groupby('ID')['Đơn giá nhập'].min()\n",
    "Data_MuaHang=Data_MuaHang.merge(Min_value,on='ID',suffixes=('', '_min'))\n",
    "# -> Filter theo ID có đơn giá nhập nhỏ nhất\n",
    "Data_MuaHang = Data_MuaHang[Data_MuaHang['Đơn giá nhập']==Data_MuaHang['Đơn giá nhập_min']].drop('Đơn giá nhập_min', axis=1)\n",
    "\n",
    "#-> Filter Mã hàng có ngày nhập gần nhất\n",
    "Date_max=Data_MuaHang.groupby('ID')['Ngày nhập'].max()\n",
    "Data_MuaHang=Data_MuaHang.merge(Date_max,on='ID',suffixes=('', '_max'))\n",
    "# -> Filter theo ID có đơn giá nhập nhỏ nhất\n",
    "Data_MuaHang = Data_MuaHang[Data_MuaHang['Ngày nhập']==Data_MuaHang['Ngày nhập_max']].drop('Ngày nhập_max', axis=1)\n",
    "\n",
    "\n",
    "# Data_MuaHang.loc[Data_MuaHang['ID']==\"90913-02105\"]\n",
    "# Data_MuaHang.loc[Data_MuaHang['ID']==\"T24NC50WB\"]"
   ]
  },
  {
   "cell_type": "code",
   "execution_count": null,
   "metadata": {},
   "outputs": [],
   "source": [
    "# TẠO BỘ LỌC CHO SỔ BÁN HÀNG: GIÁ GIẢM NHỎ NHẤT;\n",
    "Data_BanHang = Data_BanHang[Data_BanHang['Giá bán giảm'] == Data_BanHang.groupby('ID')['Giá bán giảm'].transform('min')]\n",
    "Data_BanHang = Data_BanHang.drop_duplicates(['ID','Giá bán giảm'], keep=\"first\")\n"
   ]
  },
  {
   "cell_type": "code",
   "execution_count": null,
   "metadata": {},
   "outputs": [],
   "source": [
    "# TÍNH TOÁN GIÁ VỐN\n",
    "# Calcuation on Tong Hop Ton Kho -------------------------------------------\n",
    "\n",
    "# Gia Von= Gia Tri Xuat/SL Xuat * 1.05\n",
    "Data_Ton['Giá vốn']=np.around(Data_Ton['Giá trị xuất']/Data_Ton['Tổng xuất']*1.05,0)\n"
   ]
  },
  {
   "cell_type": "code",
   "execution_count": null,
   "metadata": {},
   "outputs": [],
   "source": [
    "# TỔNG HỢP DỮ LIỆU\n",
    "\n",
    "# Merge Request -> Gia Von\n",
    "Data_Request= pd.merge(Data_Request,Data_Ton[['ID','Giá vốn']],on='ID', how='left')\n",
    "# # Merge  (Báo cáo nhập xuất tồn)\n",
    "Data_Request=pd.merge(Data_Request,Data_GiaBanTonKho[['ID','Giá bán','Tổng tồn']],how='left',on='ID')\n",
    "# # # # Merge Giá bán hàng\n",
    "Data_Request=pd.merge(Data_Request,Data_BanHang,how='inner',on='ID')\n",
    "# # Merge Giá mua hàng\n",
    "Data_Request=pd.merge(Data_Request,Data_MuaHang,how='left',on='ID')\n"
   ]
  },
  {
   "cell_type": "code",
   "execution_count": null,
   "metadata": {},
   "outputs": [],
   "source": [
    "# TÍNH TOÁN CÁC HỆ SỐ\n",
    "# Calcuation on Request -------------------------------------------\n",
    "\n",
    "#VND/US=24,000; he so = 1.13\n",
    "Data_Request['Unit Price VND'] = np.around(Data_Request['Unit price']*24000*1.13,0)\n",
    "Data_Request['Tỷ lệ Giá vốn chênh lệch'] = np.around((Data_Request['Unit Price VND']-Data_Request['Giá vốn'])/Data_Request['Giá vốn'],2)"
   ]
  },
  {
   "cell_type": "code",
   "execution_count": null,
   "metadata": {},
   "outputs": [],
   "source": [
    "# MẶC CẢ GIÁ VỚI NHÀ CUNG CẤP; RATE = 15%\n",
    "RateDeal=0.15\n",
    "RateVNDUSD=24000\n",
    "\n",
    "# GIÁ MẶC CẢ VND\n",
    "Data_Request['Giá mặc cả VND']=np.around(Data_Request.loc[Data_Request['Tỷ lệ Giá vốn chênh lệch']<0.0000]['Giá vốn'],0)\n",
    "Data_Request['Giá mặc cả VND']=np.around(Data_Request[Data_Request['Giá vốn']>=0.0]['Giá vốn']*(1-RateDeal),0)\n",
    "Data_Request.sort_values(by='Giá mặc cả VND', ascending=False)\n",
    "\n",
    "#GIÁ MẶC CẢ USD\n",
    "Data_Request['Giá mặc cả USD']=np.around(Data_Request['Giá mặc cả VND']/RateVNDUSD,2)\n",
    "\n",
    "# Data_Request.head()\n"
   ]
  },
  {
   "cell_type": "code",
   "execution_count": null,
   "metadata": {},
   "outputs": [],
   "source": [
    "#SHOW KET QUA\n",
    "Data_Request=Data_Request.iloc[:,[0,1,2,3,4,5,6,15,7,16,8,10,11,12,14,13,9,17,18]]\n",
    "#Unit Price, Unit VND, Giá vốn, %chênh lệch VND, Giá bán, giá giảm, Ngày nhập, Nhà cung cấp, đơn giá nhập, tổng nhập, tổng tồn\n",
    "# Data_Request.head()\n",
    "\n",
    "# Data_Request.loc[Data_Request['ID']==\"T24VG4WS\"]\n"
   ]
  },
  {
   "cell_type": "code",
   "execution_count": null,
   "metadata": {},
   "outputs": [],
   "source": [
    "# EXPORT FILE DATA\n",
    "with pd.ExcelWriter('Report.xlsx') as writer:\n",
    "    Data_Request.to_excel(writer, sheet_name='Data')\n",
    "  \n",
    "\n"
   ]
  }
 ],
 "metadata": {
  "kernelspec": {
   "display_name": "Python 3.10.7 64-bit",
   "language": "python",
   "name": "python3"
  },
  "language_info": {
   "codemirror_mode": {
    "name": "ipython",
    "version": 3
   },
   "file_extension": ".py",
   "mimetype": "text/x-python",
   "name": "python",
   "nbconvert_exporter": "python",
   "pygments_lexer": "ipython3",
   "version": "3.10.7"
  },
  "orig_nbformat": 4,
  "vscode": {
   "interpreter": {
    "hash": "f6cc984e88e62e349a3d36e7a57a515520ae12055cc10527abcd013d74ecd266"
   }
  }
 },
 "nbformat": 4,
 "nbformat_minor": 2
}
